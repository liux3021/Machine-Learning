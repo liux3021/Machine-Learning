{
 "cells": [
  {
   "cell_type": "code",
   "execution_count": 1,
   "metadata": {},
   "outputs": [],
   "source": [
    "import h2o\n",
    "from h2o.estimators.glm import H2OGeneralizedLinearEstimator"
   ]
  },
  {
   "cell_type": "code",
   "execution_count": 2,
   "metadata": {},
   "outputs": [
    {
     "name": "stdout",
     "output_type": "stream",
     "text": [
      "Checking whether there is an H2O instance running at http://localhost:54321 ..... not found.\n",
      "Attempting to start a local H2O server...\n",
      "  Java Version: java version \"12\" 2019-03-19; Java(TM) SE Runtime Environment (build 12+33); Java HotSpot(TM) 64-Bit Server VM (build 12+33, mixed mode, sharing)\n",
      "  Starting server from /anaconda3/lib/python3.7/site-packages/h2o/backend/bin/h2o.jar\n",
      "  Ice root: /var/folders/kt/8xsb1jb94693v5jt7nr0sb5m0000gn/T/tmplzdjn_pi\n",
      "  JVM stdout: /var/folders/kt/8xsb1jb94693v5jt7nr0sb5m0000gn/T/tmplzdjn_pi/h2o_fanliu_started_from_python.out\n",
      "  JVM stderr: /var/folders/kt/8xsb1jb94693v5jt7nr0sb5m0000gn/T/tmplzdjn_pi/h2o_fanliu_started_from_python.err\n"
     ]
    },
    {
     "ename": "H2OServerError",
     "evalue": "Server process terminated with error code 1",
     "output_type": "error",
     "traceback": [
      "\u001b[0;31m---------------------------------------------------------------------------\u001b[0m",
      "\u001b[0;31mH2OConnectionError\u001b[0m                        Traceback (most recent call last)",
      "\u001b[0;32m/anaconda3/lib/python3.7/site-packages/h2o/h2o.py\u001b[0m in \u001b[0;36minit\u001b[0;34m(url, ip, port, name, https, insecure, username, password, cookies, proxy, start_h2o, nthreads, ice_root, log_dir, log_level, enable_assertions, max_mem_size, min_mem_size, strict_version_check, ignore_config, extra_classpath, jvm_custom_args, bind_to_localhost, **kwargs)\u001b[0m\n\u001b[1;32m    265\u001b[0m                                      \u001b[0mauth\u001b[0m\u001b[0;34m=\u001b[0m\u001b[0mauth\u001b[0m\u001b[0;34m,\u001b[0m \u001b[0mproxy\u001b[0m\u001b[0;34m=\u001b[0m\u001b[0mproxy\u001b[0m\u001b[0;34m,\u001b[0m\u001b[0mcookies\u001b[0m\u001b[0;34m=\u001b[0m\u001b[0mcookies\u001b[0m\u001b[0;34m,\u001b[0m \u001b[0mverbose\u001b[0m\u001b[0;34m=\u001b[0m\u001b[0;32mTrue\u001b[0m\u001b[0;34m,\u001b[0m\u001b[0;34m\u001b[0m\u001b[0;34m\u001b[0m\u001b[0m\n\u001b[0;32m--> 266\u001b[0;31m                                      _msgs=(\"Checking whether there is an H2O instance running at {url} \",\n\u001b[0m\u001b[1;32m    267\u001b[0m                                             \"connected.\", \"not found.\"))\n",
      "\u001b[0;32m/anaconda3/lib/python3.7/site-packages/h2o/backend/connection.py\u001b[0m in \u001b[0;36mopen\u001b[0;34m(server, url, ip, port, name, https, auth, verify_ssl_certificates, proxy, cookies, verbose, _msgs)\u001b[0m\n\u001b[1;32m    322\u001b[0m             \u001b[0mconn\u001b[0m\u001b[0;34m.\u001b[0m\u001b[0m_timeout\u001b[0m \u001b[0;34m=\u001b[0m \u001b[0;36m3.0\u001b[0m\u001b[0;34m\u001b[0m\u001b[0;34m\u001b[0m\u001b[0m\n\u001b[0;32m--> 323\u001b[0;31m             \u001b[0mconn\u001b[0m\u001b[0;34m.\u001b[0m\u001b[0m_cluster\u001b[0m \u001b[0;34m=\u001b[0m \u001b[0mconn\u001b[0m\u001b[0;34m.\u001b[0m\u001b[0m_test_connection\u001b[0m\u001b[0;34m(\u001b[0m\u001b[0mretries\u001b[0m\u001b[0;34m,\u001b[0m \u001b[0mmessages\u001b[0m\u001b[0;34m=\u001b[0m\u001b[0m_msgs\u001b[0m\u001b[0;34m)\u001b[0m\u001b[0;34m\u001b[0m\u001b[0;34m\u001b[0m\u001b[0m\n\u001b[0m\u001b[1;32m    324\u001b[0m             \u001b[0;31m# If a server is unable to respond within 1s, it should be considered a bug. However we disable this\u001b[0m\u001b[0;34m\u001b[0m\u001b[0;34m\u001b[0m\u001b[0;34m\u001b[0m\u001b[0m\n",
      "\u001b[0;32m/anaconda3/lib/python3.7/site-packages/h2o/backend/connection.py\u001b[0m in \u001b[0;36m_test_connection\u001b[0;34m(self, max_retries, messages)\u001b[0m\n\u001b[1;32m    602\u001b[0m             raise H2OConnectionError(\"Could not establish link to the H2O cloud %s after %d retries\\n%s\"\n\u001b[0;32m--> 603\u001b[0;31m                                      % (self._base_url, max_retries, \"\\n\".join(errors)))\n\u001b[0m\u001b[1;32m    604\u001b[0m \u001b[0;34m\u001b[0m\u001b[0m\n",
      "\u001b[0;31mH2OConnectionError\u001b[0m: Could not establish link to the H2O cloud http://localhost:54321 after 5 retries\n[27:20.88] H2OConnectionError: Unexpected HTTP error: HTTPConnectionPool(host='localhost', port=54321): Max retries exceeded with url: /3/Cloud (Caused by NewConnectionError('<urllib3.connection.HTTPConnection object at 0x10ee91a58>: Failed to establish a new connection: [Errno 61] Connection refused'))\n[27:21.10] H2OConnectionError: Unexpected HTTP error: HTTPConnectionPool(host='localhost', port=54321): Max retries exceeded with url: /3/Cloud (Caused by NewConnectionError('<urllib3.connection.HTTPConnection object at 0x10eeb1128>: Failed to establish a new connection: [Errno 61] Connection refused'))\n[27:21.31] H2OConnectionError: Unexpected HTTP error: HTTPConnectionPool(host='localhost', port=54321): Max retries exceeded with url: /3/Cloud (Caused by NewConnectionError('<urllib3.connection.HTTPConnection object at 0x10eeb17f0>: Failed to establish a new connection: [Errno 61] Connection refused'))\n[27:21.52] H2OConnectionError: Unexpected HTTP error: HTTPConnectionPool(host='localhost', port=54321): Max retries exceeded with url: /3/Cloud (Caused by NewConnectionError('<urllib3.connection.HTTPConnection object at 0x10eeb1eb8>: Failed to establish a new connection: [Errno 61] Connection refused'))\n[27:21.73] H2OConnectionError: Unexpected HTTP error: HTTPConnectionPool(host='localhost', port=54321): Max retries exceeded with url: /3/Cloud (Caused by NewConnectionError('<urllib3.connection.HTTPConnection object at 0x10eec15c0>: Failed to establish a new connection: [Errno 61] Connection refused'))",
      "\nDuring handling of the above exception, another exception occurred:\n",
      "\u001b[0;31mH2OServerError\u001b[0m                            Traceback (most recent call last)",
      "\u001b[0;32m<ipython-input-2-95453bf1556d>\u001b[0m in \u001b[0;36m<module>\u001b[0;34m\u001b[0m\n\u001b[0;32m----> 1\u001b[0;31m \u001b[0mh2o\u001b[0m\u001b[0;34m.\u001b[0m\u001b[0minit\u001b[0m\u001b[0;34m(\u001b[0m\u001b[0;34m)\u001b[0m\u001b[0;34m\u001b[0m\u001b[0;34m\u001b[0m\u001b[0m\n\u001b[0m",
      "\u001b[0;32m/anaconda3/lib/python3.7/site-packages/h2o/h2o.py\u001b[0m in \u001b[0;36minit\u001b[0;34m(url, ip, port, name, https, insecure, username, password, cookies, proxy, start_h2o, nthreads, ice_root, log_dir, log_level, enable_assertions, max_mem_size, min_mem_size, strict_version_check, ignore_config, extra_classpath, jvm_custom_args, bind_to_localhost, **kwargs)\u001b[0m\n\u001b[1;32m    277\u001b[0m                                   \u001b[0mport\u001b[0m\u001b[0;34m=\u001b[0m\u001b[0mport\u001b[0m\u001b[0;34m,\u001b[0m \u001b[0mname\u001b[0m\u001b[0;34m=\u001b[0m\u001b[0mname\u001b[0m\u001b[0;34m,\u001b[0m\u001b[0;34m\u001b[0m\u001b[0;34m\u001b[0m\u001b[0m\n\u001b[1;32m    278\u001b[0m                                   \u001b[0mextra_classpath\u001b[0m\u001b[0;34m=\u001b[0m\u001b[0mextra_classpath\u001b[0m\u001b[0;34m,\u001b[0m \u001b[0mjvm_custom_args\u001b[0m\u001b[0;34m=\u001b[0m\u001b[0mjvm_custom_args\u001b[0m\u001b[0;34m,\u001b[0m\u001b[0;34m\u001b[0m\u001b[0;34m\u001b[0m\u001b[0m\n\u001b[0;32m--> 279\u001b[0;31m                                   bind_to_localhost=bind_to_localhost)\n\u001b[0m\u001b[1;32m    280\u001b[0m         h2oconn = H2OConnection.open(server=hs, https=https, verify_ssl_certificates=not insecure,\n\u001b[1;32m    281\u001b[0m                                      auth=auth, proxy=proxy,cookies=cookies, verbose=True)\n",
      "\u001b[0;32m/anaconda3/lib/python3.7/site-packages/h2o/backend/server.py\u001b[0m in \u001b[0;36mstart\u001b[0;34m(jar_path, nthreads, enable_assertions, max_mem_size, min_mem_size, ice_root, log_dir, log_level, port, name, extra_classpath, verbose, jvm_custom_args, bind_to_localhost)\u001b[0m\n\u001b[1;32m    136\u001b[0m         hs._launch_server(port=port, baseport=baseport, nthreads=int(nthreads), ea=enable_assertions,\n\u001b[1;32m    137\u001b[0m                           \u001b[0mmmax\u001b[0m\u001b[0;34m=\u001b[0m\u001b[0mmax_mem_size\u001b[0m\u001b[0;34m,\u001b[0m \u001b[0mmmin\u001b[0m\u001b[0;34m=\u001b[0m\u001b[0mmin_mem_size\u001b[0m\u001b[0;34m,\u001b[0m \u001b[0mjvm_custom_args\u001b[0m\u001b[0;34m=\u001b[0m\u001b[0mjvm_custom_args\u001b[0m\u001b[0;34m,\u001b[0m\u001b[0;34m\u001b[0m\u001b[0;34m\u001b[0m\u001b[0m\n\u001b[0;32m--> 138\u001b[0;31m                           bind_to_localhost=bind_to_localhost, log_dir=log_dir, log_level=log_level)\n\u001b[0m\u001b[1;32m    139\u001b[0m         \u001b[0;32mif\u001b[0m \u001b[0mverbose\u001b[0m\u001b[0;34m:\u001b[0m \u001b[0mprint\u001b[0m\u001b[0;34m(\u001b[0m\u001b[0;34m\"  Server is running at %s://%s:%d\"\u001b[0m \u001b[0;34m%\u001b[0m \u001b[0;34m(\u001b[0m\u001b[0mhs\u001b[0m\u001b[0;34m.\u001b[0m\u001b[0mscheme\u001b[0m\u001b[0;34m,\u001b[0m \u001b[0mhs\u001b[0m\u001b[0;34m.\u001b[0m\u001b[0mip\u001b[0m\u001b[0;34m,\u001b[0m \u001b[0mhs\u001b[0m\u001b[0;34m.\u001b[0m\u001b[0mport\u001b[0m\u001b[0;34m)\u001b[0m\u001b[0;34m)\u001b[0m\u001b[0;34m\u001b[0m\u001b[0;34m\u001b[0m\u001b[0m\n\u001b[1;32m    140\u001b[0m         \u001b[0matexit\u001b[0m\u001b[0;34m.\u001b[0m\u001b[0mregister\u001b[0m\u001b[0;34m(\u001b[0m\u001b[0;32mlambda\u001b[0m\u001b[0;34m:\u001b[0m \u001b[0mhs\u001b[0m\u001b[0;34m.\u001b[0m\u001b[0mshutdown\u001b[0m\u001b[0;34m(\u001b[0m\u001b[0;34m)\u001b[0m\u001b[0;34m)\u001b[0m\u001b[0;34m\u001b[0m\u001b[0;34m\u001b[0m\u001b[0m\n",
      "\u001b[0;32m/anaconda3/lib/python3.7/site-packages/h2o/backend/server.py\u001b[0m in \u001b[0;36m_launch_server\u001b[0;34m(self, port, baseport, mmax, mmin, ea, nthreads, jvm_custom_args, bind_to_localhost, log_dir, log_level)\u001b[0m\n\u001b[1;32m    344\u001b[0m         \u001b[0;32mwhile\u001b[0m \u001b[0;32mTrue\u001b[0m\u001b[0;34m:\u001b[0m\u001b[0;34m\u001b[0m\u001b[0;34m\u001b[0m\u001b[0m\n\u001b[1;32m    345\u001b[0m             \u001b[0;32mif\u001b[0m \u001b[0mproc\u001b[0m\u001b[0;34m.\u001b[0m\u001b[0mpoll\u001b[0m\u001b[0;34m(\u001b[0m\u001b[0;34m)\u001b[0m \u001b[0;32mis\u001b[0m \u001b[0;32mnot\u001b[0m \u001b[0;32mNone\u001b[0m\u001b[0;34m:\u001b[0m\u001b[0;34m\u001b[0m\u001b[0;34m\u001b[0m\u001b[0m\n\u001b[0;32m--> 346\u001b[0;31m                 \u001b[0;32mraise\u001b[0m \u001b[0mH2OServerError\u001b[0m\u001b[0;34m(\u001b[0m\u001b[0;34m\"Server process terminated with error code %d\"\u001b[0m \u001b[0;34m%\u001b[0m \u001b[0mproc\u001b[0m\u001b[0;34m.\u001b[0m\u001b[0mreturncode\u001b[0m\u001b[0;34m)\u001b[0m\u001b[0;34m\u001b[0m\u001b[0;34m\u001b[0m\u001b[0m\n\u001b[0m\u001b[1;32m    347\u001b[0m             \u001b[0mret\u001b[0m \u001b[0;34m=\u001b[0m \u001b[0mself\u001b[0m\u001b[0;34m.\u001b[0m\u001b[0m_get_server_info_from_logs\u001b[0m\u001b[0;34m(\u001b[0m\u001b[0;34m)\u001b[0m\u001b[0;34m\u001b[0m\u001b[0;34m\u001b[0m\u001b[0m\n\u001b[1;32m    348\u001b[0m             \u001b[0;32mif\u001b[0m \u001b[0mret\u001b[0m\u001b[0;34m:\u001b[0m\u001b[0;34m\u001b[0m\u001b[0;34m\u001b[0m\u001b[0m\n",
      "\u001b[0;31mH2OServerError\u001b[0m: Server process terminated with error code 1"
     ]
    }
   ],
   "source": [
    "h2o.init()"
   ]
  },
  {
   "cell_type": "code",
   "execution_count": 26,
   "metadata": {},
   "outputs": [],
   "source": [
    "path = 'new_train.csv'\n",
    "col_types = {'repeater': 'enum'}"
   ]
  },
  {
   "cell_type": "code",
   "execution_count": 29,
   "metadata": {},
   "outputs": [
    {
     "name": "stdout",
     "output_type": "stream",
     "text": [
      "Parse progress: |█████████████████████████████████████████████████████████| 100%\n"
     ]
    }
   ],
   "source": [
    "train = h2o.import_file(path=path, col_types=col_types)"
   ]
  },
  {
   "cell_type": "code",
   "execution_count": 30,
   "metadata": {
    "scrolled": true
   },
   "outputs": [
    {
     "name": "stdout",
     "output_type": "stream",
     "text": [
      "Rows:160057\n",
      "Cols:14\n",
      "\n",
      "\n"
     ]
    },
    {
     "data": {
      "text/html": [
       "<table>\n",
       "<thead>\n",
       "<tr><th>       </th><th>offer  </th><th>category  </th><th>quantity  </th><th>company  </th><th>offervalue        </th><th>brand  </th><th>id               </th><th>chain             </th><th>market            </th><th>repeater  </th><th>offerdate          </th><th>avg_purchasequantity  </th><th>avg_purchaseamount  </th><th>Pre_Purchased      </th></tr>\n",
       "</thead>\n",
       "<tbody>\n",
       "<tr><td>type   </td><td>enum   </td><td>enum      </td><td>int       </td><td>enum     </td><td>real              </td><td>enum   </td><td>int              </td><td>int               </td><td>int               </td><td>enum      </td><td>time               </td><td>real                  </td><td>real                </td><td>int                </td></tr>\n",
       "<tr><td>mins   </td><td>       </td><td>          </td><td>1.0       </td><td>         </td><td>0.75              </td><td>       </td><td>86246.0          </td><td>2.0               </td><td>1.0               </td><td>          </td><td>1362096000000.0    </td><td>-1.0                  </td><td>-85.14              </td><td>0.0                </td></tr>\n",
       "<tr><td>mean   </td><td>       </td><td>          </td><td>1.0       </td><td>         </td><td>1.2553231036443289</td><td>       </td><td>1869324131.255584</td><td>126.81031132658985</td><td>19.950598849160006</td><td>          </td><td>1365220653082.3413 </td><td>0.6949999031818278    </td><td>2.244131275722705   </td><td>0.15772506044721568</td></tr>\n",
       "<tr><td>maxs   </td><td>       </td><td>          </td><td>1.0       </td><td>         </td><td>3.0               </td><td>       </td><td>4809911000.0     </td><td>526.0             </td><td>96.0              </td><td>          </td><td>1367280000000.0    </td><td>44.181818182          </td><td>62.218              </td><td>1.0                </td></tr>\n",
       "<tr><td>sigma  </td><td>       </td><td>          </td><td>0.0       </td><td>         </td><td>0.524644526146522 </td><td>       </td><td>1570833451.48563 </td><td>127.93428790957742</td><td>19.09900866957814 </td><td>          </td><td>1303790212.050531  </td><td>0.7609072934172035    </td><td>2.5989523363669185  </td><td>0.36448415022164654</td></tr>\n",
       "<tr><td>zeros  </td><td>       </td><td>          </td><td>0         </td><td>         </td><td>0                 </td><td>       </td><td>0                </td><td>0                 </td><td>0                 </td><td>          </td><td>0                  </td><td>72549                 </td><td>72591               </td><td>134812             </td></tr>\n",
       "<tr><td>missing</td><td>0      </td><td>0         </td><td>0         </td><td>0        </td><td>0                 </td><td>0      </td><td>0                </td><td>0                 </td><td>0                 </td><td>0         </td><td>0                  </td><td>0                     </td><td>0                   </td><td>0                  </td></tr>\n",
       "<tr><td>0      </td><td>1208251</td><td>2202      </td><td>1.0       </td><td>104460040</td><td>2.0               </td><td>3718   </td><td>86246.0          </td><td>205.0             </td><td>34.0              </td><td>1         </td><td>2013-04-24 00:00:00</td><td>0.0                   </td><td>0.0                 </td><td>0.0                </td></tr>\n",
       "<tr><td>1      </td><td>unknown</td><td>unknown   </td><td>1.0       </td><td>unknown  </td><td>0.75              </td><td>unknown</td><td>86252.0          </td><td>205.0             </td><td>34.0              </td><td>1         </td><td>2013-03-27 00:00:00</td><td>1.0                   </td><td>2.425               </td><td>1.0                </td></tr>\n",
       "<tr><td>2      </td><td>unknown</td><td>unknown   </td><td>1.0       </td><td>unknown  </td><td>0.75              </td><td>unknown</td><td>12682470.0       </td><td>18.0              </td><td>11.0              </td><td>0         </td><td>2013-03-28 00:00:00</td><td>1.0                   </td><td>2.5                 </td><td>0.0                </td></tr>\n",
       "<tr><td>3      </td><td>unknown</td><td>unknown   </td><td>1.0       </td><td>unknown  </td><td>0.75              </td><td>unknown</td><td>12996040.0       </td><td>15.0              </td><td>9.0               </td><td>0         </td><td>2013-03-25 00:00:00</td><td>0.0                   </td><td>0.0                 </td><td>0.0                </td></tr>\n",
       "<tr><td>4      </td><td>1204821</td><td>5619      </td><td>1.0       </td><td>107717272</td><td>1.5               </td><td>102504 </td><td>13089312.0       </td><td>15.0              </td><td>9.0               </td><td>0         </td><td>2013-04-01 00:00:00</td><td>0.0                   </td><td>0.0                 </td><td>0.0                </td></tr>\n",
       "<tr><td>5      </td><td>unknown</td><td>unknown   </td><td>1.0       </td><td>unknown  </td><td>0.75              </td><td>unknown</td><td>13179265.0       </td><td>14.0              </td><td>8.0               </td><td>0         </td><td>2013-03-29 00:00:00</td><td>0.0                   </td><td>0.0                 </td><td>0.0                </td></tr>\n",
       "<tr><td>6      </td><td>1200581</td><td>1726      </td><td>1.0       </td><td>104460040</td><td>1.25              </td><td>7668   </td><td>13251776.0       </td><td>15.0              </td><td>9.0               </td><td>0         </td><td>2013-03-30 00:00:00</td><td>1.8                   </td><td>4.563               </td><td>0.0                </td></tr>\n",
       "<tr><td>7      </td><td>1200581</td><td>1726      </td><td>1.0       </td><td>104460040</td><td>1.25              </td><td>7668   </td><td>13540129.0       </td><td>14.0              </td><td>8.0               </td><td>0         </td><td>2013-03-30 00:00:00</td><td>1.3333333333          </td><td>4.6533333333        </td><td>0.0                </td></tr>\n",
       "<tr><td>8      </td><td>1204576</td><td>5616      </td><td>1.0       </td><td>104610040</td><td>1.0               </td><td>15889  </td><td>13807224.0       </td><td>4.0               </td><td>1.0               </td><td>0         </td><td>2013-04-05 00:00:00</td><td>1.4375                </td><td>3.365               </td><td>1.0                </td></tr>\n",
       "<tr><td>9      </td><td>unknown</td><td>unknown   </td><td>1.0       </td><td>unknown  </td><td>0.75              </td><td>unknown</td><td>13873775.0       </td><td>4.0               </td><td>1.0               </td><td>0         </td><td>2013-03-26 00:00:00</td><td>0.0                   </td><td>0.0                 </td><td>0.0                </td></tr>\n",
       "</tbody>\n",
       "</table>"
      ]
     },
     "metadata": {},
     "output_type": "display_data"
    }
   ],
   "source": [
    "train.describe()"
   ]
  },
  {
   "cell_type": "code",
   "execution_count": 31,
   "metadata": {},
   "outputs": [],
   "source": [
    "path = 'new_test.csv'"
   ]
  },
  {
   "cell_type": "code",
   "execution_count": 34,
   "metadata": {},
   "outputs": [
    {
     "name": "stdout",
     "output_type": "stream",
     "text": [
      "Parse progress: |█████████████████████████████████████████████████████████| 100%\n"
     ]
    }
   ],
   "source": [
    "score = h2o.import_file(path=path)"
   ]
  },
  {
   "cell_type": "code",
   "execution_count": 35,
   "metadata": {},
   "outputs": [
    {
     "name": "stdout",
     "output_type": "stream",
     "text": [
      "Rows:151484\n",
      "Cols:13\n",
      "\n",
      "\n"
     ]
    },
    {
     "data": {
      "text/html": [
       "<table>\n",
       "<thead>\n",
       "<tr><th>       </th><th>offer  </th><th>category  </th><th>quantity           </th><th>company  </th><th>offervalue        </th><th>brand  </th><th>id                </th><th>chain             </th><th>market            </th><th>offerdate          </th><th>avg_purchasequantity  </th><th>avg_purchaseamount  </th><th>Pre_Purchased      </th></tr>\n",
       "</thead>\n",
       "<tbody>\n",
       "<tr><td>type   </td><td>enum   </td><td>enum      </td><td>int                </td><td>enum     </td><td>real              </td><td>enum   </td><td>int               </td><td>int               </td><td>int               </td><td>time               </td><td>real                  </td><td>real                </td><td>int                </td></tr>\n",
       "<tr><td>mins   </td><td>       </td><td>          </td><td>1.0                </td><td>         </td><td>1.0               </td><td>       </td><td>12262064.0        </td><td>2.0               </td><td>1.0               </td><td>1367366400000.0    </td><td>-1.0                  </td><td>-18.76              </td><td>0.0                </td></tr>\n",
       "<tr><td>mean   </td><td>       </td><td>          </td><td>1.214194238335402  </td><td>         </td><td>1.80395949407198  </td><td>       </td><td>2367235598.062949 </td><td>189.44308309788494</td><td>35.404095482031124</td><td>1372045742758.311  </td><td>0.9798367012155564    </td><td>3.918267425267764   </td><td>0.17694277943545192</td></tr>\n",
       "<tr><td>maxs   </td><td>       </td><td>          </td><td>2.0                </td><td>         </td><td>5.0               </td><td>       </td><td>4853598737.0      </td><td>526.0             </td><td>96.0              </td><td>1375228800000.0    </td><td>40.0                  </td><td>103.87              </td><td>1.0                </td></tr>\n",
       "<tr><td>sigma  </td><td>       </td><td>          </td><td>0.41026354665572834</td><td>         </td><td>0.7684280524816697</td><td>       </td><td>1629644569.9344268</td><td>175.5693635830452 </td><td>33.483483455280464</td><td>1768808429.4715858 </td><td>0.6520652050938551    </td><td>3.2478020120199544  </td><td>0.3816215319262376 </td></tr>\n",
       "<tr><td>zeros  </td><td>       </td><td>          </td><td>0                  </td><td>         </td><td>0                 </td><td>       </td><td>0                 </td><td>0                 </td><td>0                 </td><td>0                  </td><td>27950                 </td><td>27970               </td><td>124680             </td></tr>\n",
       "<tr><td>missing</td><td>0      </td><td>0         </td><td>0                  </td><td>0        </td><td>0                 </td><td>0      </td><td>0                 </td><td>0                 </td><td>0                 </td><td>0                  </td><td>0                     </td><td>0                   </td><td>0                  </td></tr>\n",
       "<tr><td>0      </td><td>unknown</td><td>unknown   </td><td>1.0                </td><td>unknown  </td><td>1.5               </td><td>unknown</td><td>12262064.0        </td><td>95.0              </td><td>39.0              </td><td>2013-06-27 00:00:00</td><td>0.0                   </td><td>0.0                 </td><td>0.0                </td></tr>\n",
       "<tr><td>1      </td><td>unknown</td><td>unknown   </td><td>2.0                </td><td>unknown  </td><td>3.0               </td><td>unknown</td><td>12277270.0        </td><td>95.0              </td><td>39.0              </td><td>2013-06-23 00:00:00</td><td>1.2                   </td><td>3.882               </td><td>1.0                </td></tr>\n",
       "<tr><td>2      </td><td>unknown</td><td>unknown   </td><td>1.0                </td><td>unknown  </td><td>2.0               </td><td>unknown</td><td>12332190.0        </td><td>95.0              </td><td>39.0              </td><td>2013-06-15 00:00:00</td><td>2.0                   </td><td>6.98                </td><td>0.0                </td></tr>\n",
       "<tr><td>3      </td><td>unknown</td><td>unknown   </td><td>1.0                </td><td>unknown  </td><td>1.5               </td><td>unknown</td><td>12524696.0        </td><td>4.0               </td><td>1.0               </td><td>2013-06-20 00:00:00</td><td>1.0                   </td><td>4.2425              </td><td>0.0                </td></tr>\n",
       "<tr><td>4      </td><td>unknown</td><td>unknown   </td><td>2.0                </td><td>unknown  </td><td>3.0               </td><td>unknown</td><td>13074629.0        </td><td>14.0              </td><td>8.0               </td><td>2013-06-21 00:00:00</td><td>1.0                   </td><td>5.6185714286        </td><td>0.0                </td></tr>\n",
       "<tr><td>5      </td><td>unknown</td><td>unknown   </td><td>2.0                </td><td>unknown  </td><td>3.0               </td><td>unknown</td><td>13387341.0        </td><td>14.0              </td><td>8.0               </td><td>2013-06-22 00:00:00</td><td>1.0                   </td><td>4.49                </td><td>0.0                </td></tr>\n",
       "<tr><td>6      </td><td>unknown</td><td>unknown   </td><td>1.0                </td><td>unknown  </td><td>1.5               </td><td>unknown</td><td>13501141.0        </td><td>4.0               </td><td>1.0               </td><td>2013-05-13 00:00:00</td><td>1.0                   </td><td>6.74                </td><td>0.0                </td></tr>\n",
       "<tr><td>7      </td><td>unknown</td><td>unknown   </td><td>1.0                </td><td>unknown  </td><td>1.5               </td><td>unknown</td><td>13558712.0        </td><td>15.0              </td><td>9.0               </td><td>2013-05-12 00:00:00</td><td>1.0                   </td><td>10.323333333        </td><td>0.0                </td></tr>\n",
       "<tr><td>8      </td><td>unknown</td><td>unknown   </td><td>1.0                </td><td>unknown  </td><td>1.5               </td><td>unknown</td><td>13563017.0        </td><td>14.0              </td><td>8.0               </td><td>2013-06-24 00:00:00</td><td>1.0                   </td><td>5.3066666667        </td><td>0.0                </td></tr>\n",
       "<tr><td>9      </td><td>unknown</td><td>unknown   </td><td>1.0                </td><td>unknown  </td><td>1.5               </td><td>unknown</td><td>13584134.0        </td><td>14.0              </td><td>8.0               </td><td>2013-06-27 00:00:00</td><td>1.0                   </td><td>2.84                </td><td>0.0                </td></tr>\n",
       "</tbody>\n",
       "</table>"
      ]
     },
     "metadata": {},
     "output_type": "display_data"
    }
   ],
   "source": [
    "score.describe()"
   ]
  },
  {
   "cell_type": "code",
   "execution_count": 48,
   "metadata": {},
   "outputs": [],
   "source": [
    "train['Month'] = train['offerdate'].month().asfactor()\n",
    "score['Month'] = score['offerdate'].month().asfactor()"
   ]
  },
  {
   "cell_type": "code",
   "execution_count": 50,
   "metadata": {},
   "outputs": [],
   "source": [
    "train['Week'] = train['offerdate'].week().asfactor()\n",
    "score['Week'] = score['offerdate'].week().asfactor()"
   ]
  },
  {
   "cell_type": "code",
   "execution_count": 51,
   "metadata": {},
   "outputs": [],
   "source": [
    "train['DayOfWeek'] = train['offerdate'].dayOfWeek().asfactor()\n",
    "score['DayOfWeek'] = score['offerdate'].dayOfWeek().asfactor()"
   ]
  },
  {
   "cell_type": "code",
   "execution_count": 53,
   "metadata": {},
   "outputs": [],
   "source": [
    "train['Day'] = train['offerdate'].day()\n",
    "score['Day'] = score['offerdate'].day()"
   ]
  },
  {
   "cell_type": "code",
   "execution_count": 56,
   "metadata": {},
   "outputs": [],
   "source": [
    "label_train, validation, test = train.split_frame([0.4,0.3], seed=12345)"
   ]
  },
  {
   "cell_type": "code",
   "execution_count": 70,
   "metadata": {},
   "outputs": [],
   "source": [
    "y = 'repeater'\n",
    "X = ['offer','category','company','brand','Pre_Purchased','Month',\n",
    "     'Week','DayOfWeek','offervalue','avg_purchaseamount','avg_purchasequantity','Day']"
   ]
  },
  {
   "cell_type": "code",
   "execution_count": 72,
   "metadata": {},
   "outputs": [],
   "source": [
    "repeater_glm = H2OGeneralizedLinearEstimator(family='binomial',\n",
    "                                             model_id='repeater_glm2',\n",
    "                                             solver='IRLSM',\n",
    "                                             standardize=True,\n",
    "                                             lambda_search=True,\n",
    "                                            nfolds=3,\n",
    "                                            seed = 12345)"
   ]
  },
  {
   "cell_type": "code",
   "execution_count": 76,
   "metadata": {},
   "outputs": [
    {
     "name": "stdout",
     "output_type": "stream",
     "text": [
      "glm Model Build progress: |███████████████████████████████████████████████| 100%\n"
     ]
    }
   ],
   "source": [
    "repeater_glm.train(X, y, training_frame=label_train, validation_frame = validation)"
   ]
  },
  {
   "cell_type": "code",
   "execution_count": 99,
   "metadata": {},
   "outputs": [
    {
     "name": "stdout",
     "output_type": "stream",
     "text": [
      "Rows:1\n",
      "Cols:17\n",
      "\n",
      "\n"
     ]
    },
    {
     "data": {
      "text/html": [
       "<table>\n",
       "<thead>\n",
       "<tr><th>       </th><th>offer  </th><th>category  </th><th>quantity  </th><th>company  </th><th>offervalue  </th><th>brand  </th><th>id        </th><th>chain  </th><th>market  </th><th>offerdate          </th><th>avg_purchasequantity  </th><th>avg_purchaseamount  </th><th>Pre_Purchased  </th><th>Month  </th><th>Week  </th><th>DayOfWeek  </th><th>Day  </th></tr>\n",
       "</thead>\n",
       "<tbody>\n",
       "<tr><td>type   </td><td>enum   </td><td>enum      </td><td>int       </td><td>enum     </td><td>real        </td><td>enum   </td><td>int       </td><td>int    </td><td>int     </td><td>time               </td><td>int                   </td><td>real                </td><td>int            </td><td>enum   </td><td>enum  </td><td>enum       </td><td>int  </td></tr>\n",
       "<tr><td>mins   </td><td>       </td><td>          </td><td>1.0       </td><td>         </td><td>1.5         </td><td>       </td><td>13584134.0</td><td>14.0   </td><td>8.0     </td><td>1372291200000.0    </td><td>1.0                   </td><td>2.84                </td><td>0.0            </td><td>       </td><td>      </td><td>           </td><td>27.0 </td></tr>\n",
       "<tr><td>mean   </td><td>       </td><td>          </td><td>1.0       </td><td>         </td><td>1.5         </td><td>       </td><td>13584134.0</td><td>14.0   </td><td>8.0     </td><td>1372291200000.0    </td><td>1.0                   </td><td>2.84                </td><td>0.0            </td><td>       </td><td>      </td><td>           </td><td>27.0 </td></tr>\n",
       "<tr><td>maxs   </td><td>       </td><td>          </td><td>1.0       </td><td>         </td><td>1.5         </td><td>       </td><td>13584134.0</td><td>14.0   </td><td>8.0     </td><td>1372291200000.0    </td><td>1.0                   </td><td>2.84                </td><td>0.0            </td><td>       </td><td>      </td><td>           </td><td>27.0 </td></tr>\n",
       "<tr><td>sigma  </td><td>       </td><td>          </td><td>0.0       </td><td>         </td><td>0.0         </td><td>       </td><td>0.0       </td><td>0.0    </td><td>0.0     </td><td>0.0                </td><td>0.0                   </td><td>0.0                 </td><td>0.0            </td><td>       </td><td>      </td><td>           </td><td>0.0  </td></tr>\n",
       "<tr><td>zeros  </td><td>       </td><td>          </td><td>0         </td><td>         </td><td>0           </td><td>       </td><td>0         </td><td>0      </td><td>0       </td><td>0                  </td><td>0                     </td><td>0                   </td><td>1              </td><td>       </td><td>      </td><td>           </td><td>0    </td></tr>\n",
       "<tr><td>missing</td><td>0      </td><td>0         </td><td>0         </td><td>0        </td><td>0           </td><td>0      </td><td>0         </td><td>0      </td><td>0       </td><td>0                  </td><td>0                     </td><td>0                   </td><td>0              </td><td>0      </td><td>0     </td><td>0          </td><td>0    </td></tr>\n",
       "<tr><td>0      </td><td>unknown</td><td>unknown   </td><td>1.0       </td><td>unknown  </td><td>1.5         </td><td>unknown</td><td>13584134.0</td><td>14.0   </td><td>8.0     </td><td>2013-06-27 00:00:00</td><td>1.0                   </td><td>2.84                </td><td>0.0            </td><td>6      </td><td>26    </td><td>Thu        </td><td>27.0 </td></tr>\n",
       "</tbody>\n",
       "</table>"
      ]
     },
     "metadata": {},
     "output_type": "display_data"
    }
   ],
   "source": [
    "t = score['id']==13584134\n",
    "dt = score[t,:]"
   ]
  },
  {
   "cell_type": "code",
   "execution_count": 100,
   "metadata": {},
   "outputs": [
    {
     "name": "stdout",
     "output_type": "stream",
     "text": [
      "glm prediction progress: |████████████████████████████████████████████████| 100%\n"
     ]
    },
    {
     "name": "stderr",
     "output_type": "stream",
     "text": [
      "/Users/fanliu/anaconda3/lib/python3.6/site-packages/h2o/job.py:69: UserWarning: Test/Validation dataset column 'Week' has levels not trained on: [19, 20, 21, 22, 23, 24, 25, 26, 27, 28, 29, 30, 31]\n",
      "  warnings.warn(w)\n",
      "/Users/fanliu/anaconda3/lib/python3.6/site-packages/h2o/job.py:69: UserWarning: Test/Validation dataset column 'Month' has levels not trained on: [5, 6, 7]\n",
      "  warnings.warn(w)\n"
     ]
    },
    {
     "data": {
      "text/html": [
       "<table>\n",
       "<thead>\n",
       "<tr><th style=\"text-align: right;\">  predict</th><th style=\"text-align: right;\">      p0</th><th style=\"text-align: right;\">      p1</th></tr>\n",
       "</thead>\n",
       "<tbody>\n",
       "<tr><td style=\"text-align: right;\">        0</td><td style=\"text-align: right;\">0.891752</td><td style=\"text-align: right;\">0.108248</td></tr>\n",
       "</tbody>\n",
       "</table>"
      ]
     },
     "metadata": {},
     "output_type": "display_data"
    },
    {
     "data": {
      "text/plain": []
     },
     "execution_count": 100,
     "metadata": {},
     "output_type": "execute_result"
    }
   ],
   "source": [
    "repeater_glm.predict(dt)"
   ]
  },
  {
   "cell_type": "code",
   "execution_count": null,
   "metadata": {},
   "outputs": [],
   "source": []
  },
  {
   "cell_type": "code",
   "execution_count": null,
   "metadata": {},
   "outputs": [],
   "source": []
  },
  {
   "cell_type": "code",
   "execution_count": null,
   "metadata": {},
   "outputs": [],
   "source": []
  }
 ],
 "metadata": {
  "kernelspec": {
   "display_name": "Python 3",
   "language": "python",
   "name": "python3"
  },
  "language_info": {
   "codemirror_mode": {
    "name": "ipython",
    "version": 3
   },
   "file_extension": ".py",
   "mimetype": "text/x-python",
   "name": "python",
   "nbconvert_exporter": "python",
   "pygments_lexer": "ipython3",
   "version": "3.7.3"
  }
 },
 "nbformat": 4,
 "nbformat_minor": 2
}
