{
 "cells": [
  {
   "cell_type": "markdown",
   "metadata": {},
   "source": [
    "## Import required packages"
   ]
  },
  {
   "cell_type": "markdown",
   "metadata": {},
   "source": [
    "The Machine Learning package that we use is h2oAutoML. It's a simplified machine learning tool, which involves various machine learning tools. It will automatically develop GBM, XGBoost, DeepLearning models and have Stacked Ensemble as well."
   ]
  },
  {
   "cell_type": "code",
   "execution_count": 1,
   "metadata": {},
   "outputs": [],
   "source": [
    "import numpy as np\n",
    "import pandas as pd\n",
    "import h2o\n",
    "from h2o.automl import H2OAutoML\n"
   ]
  },
  {
   "cell_type": "markdown",
   "metadata": {},
   "source": [
    "#### Initiate a h2o cluster with a maximum memory size of 16G."
   ]
  },
  {
   "cell_type": "code",
   "execution_count": 2,
   "metadata": {},
   "outputs": [
    {
     "name": "stdout",
     "output_type": "stream",
     "text": [
      "Checking whether there is an H2O instance running at http://localhost:54321 ..... not found.\n",
      "Attempting to start a local H2O server...\n",
      "  Java Version: openjdk version \"1.8.0_212\"; OpenJDK Runtime Environment (build 1.8.0_212-8u212-b03-2~deb9u1-b03); OpenJDK 64-Bit Server VM (build 25.212-b03, mixed mode)\n",
      "  Starting server from /opt/conda/lib/python3.6/site-packages/h2o/backend/bin/h2o.jar\n",
      "  Ice root: /tmp/tmpli2eq1rw\n",
      "  JVM stdout: /tmp/tmpli2eq1rw/h2o_unknownUser_started_from_python.out\n",
      "  JVM stderr: /tmp/tmpli2eq1rw/h2o_unknownUser_started_from_python.err\n",
      "  Server is running at http://127.0.0.1:54321\n",
      "Connecting to H2O server at http://127.0.0.1:54321 ... successful.\n"
     ]
    },
    {
     "data": {
      "text/html": [
       "<div style=\"overflow:auto\"><table style=\"width:50%\"><tr><td>H2O cluster uptime:</td>\n",
       "<td>02 secs</td></tr>\n",
       "<tr><td>H2O cluster timezone:</td>\n",
       "<td>Etc/UTC</td></tr>\n",
       "<tr><td>H2O data parsing timezone:</td>\n",
       "<td>UTC</td></tr>\n",
       "<tr><td>H2O cluster version:</td>\n",
       "<td>3.24.0.5</td></tr>\n",
       "<tr><td>H2O cluster version age:</td>\n",
       "<td>9 days </td></tr>\n",
       "<tr><td>H2O cluster name:</td>\n",
       "<td>H2O_from_python_unknownUser_5r1o2n</td></tr>\n",
       "<tr><td>H2O cluster total nodes:</td>\n",
       "<td>1</td></tr>\n",
       "<tr><td>H2O cluster free memory:</td>\n",
       "<td>14.22 Gb</td></tr>\n",
       "<tr><td>H2O cluster total cores:</td>\n",
       "<td>4</td></tr>\n",
       "<tr><td>H2O cluster allowed cores:</td>\n",
       "<td>4</td></tr>\n",
       "<tr><td>H2O cluster status:</td>\n",
       "<td>accepting new members, healthy</td></tr>\n",
       "<tr><td>H2O connection url:</td>\n",
       "<td>http://127.0.0.1:54321</td></tr>\n",
       "<tr><td>H2O connection proxy:</td>\n",
       "<td>None</td></tr>\n",
       "<tr><td>H2O internal security:</td>\n",
       "<td>False</td></tr>\n",
       "<tr><td>H2O API Extensions:</td>\n",
       "<td>Amazon S3, XGBoost, Algos, AutoML, Core V3, Core V4</td></tr>\n",
       "<tr><td>Python version:</td>\n",
       "<td>3.6.6 final</td></tr></table></div>"
      ],
      "text/plain": [
       "--------------------------  ---------------------------------------------------\n",
       "H2O cluster uptime:         02 secs\n",
       "H2O cluster timezone:       Etc/UTC\n",
       "H2O data parsing timezone:  UTC\n",
       "H2O cluster version:        3.24.0.5\n",
       "H2O cluster version age:    9 days\n",
       "H2O cluster name:           H2O_from_python_unknownUser_5r1o2n\n",
       "H2O cluster total nodes:    1\n",
       "H2O cluster free memory:    14.22 Gb\n",
       "H2O cluster total cores:    4\n",
       "H2O cluster allowed cores:  4\n",
       "H2O cluster status:         accepting new members, healthy\n",
       "H2O connection url:         http://127.0.0.1:54321\n",
       "H2O connection proxy:\n",
       "H2O internal security:      False\n",
       "H2O API Extensions:         Amazon S3, XGBoost, Algos, AutoML, Core V3, Core V4\n",
       "Python version:             3.6.6 final\n",
       "--------------------------  ---------------------------------------------------"
      ]
     },
     "metadata": {},
     "output_type": "display_data"
    }
   ],
   "source": [
    "h2o.init(max_mem_size='16G')"
   ]
  },
  {
   "cell_type": "markdown",
   "metadata": {},
   "source": [
    "#### Set data path for training and testing dataset."
   ]
  },
  {
   "cell_type": "code",
   "execution_count": 3,
   "metadata": {},
   "outputs": [],
   "source": [
    "train_path = '../input/train.csv'\n",
    "test_path = '../input/test.csv'"
   ]
  },
  {
   "cell_type": "markdown",
   "metadata": {},
   "source": [
    "#### Our target variable is binary. So we set the column type to 'enum' in h2o.dataframe."
   ]
  },
  {
   "cell_type": "code",
   "execution_count": 4,
   "metadata": {},
   "outputs": [],
   "source": [
    "col_types = {'target': 'enum'}"
   ]
  },
  {
   "cell_type": "markdown",
   "metadata": {},
   "source": [
    "#### Load training and testing data into h2o dataframe."
   ]
  },
  {
   "cell_type": "code",
   "execution_count": 5,
   "metadata": {},
   "outputs": [
    {
     "name": "stdout",
     "output_type": "stream",
     "text": [
      "Parse progress: |█████████████████████████████████████████████████████████| 100%\n"
     ]
    }
   ],
   "source": [
    "train = h2o.import_file(path=train_path, col_types=col_types)"
   ]
  },
  {
   "cell_type": "code",
   "execution_count": 6,
   "metadata": {},
   "outputs": [
    {
     "name": "stdout",
     "output_type": "stream",
     "text": [
      "Parse progress: |█████████████████████████████████████████████████████████| 100%\n"
     ]
    }
   ],
   "source": [
    "test = h2o.import_file(path=test_path)"
   ]
  },
  {
   "cell_type": "markdown",
   "metadata": {},
   "source": [
    "#### Assign target variable 'target' to y, and all other variables but 'ID_code' and 'target' as independent variables to X."
   ]
  },
  {
   "cell_type": "code",
   "execution_count": 7,
   "metadata": {},
   "outputs": [],
   "source": [
    "y = 'target'\n",
    "X = [name for name in train.columns if name not in ['ID_code', y]]"
   ]
  },
  {
   "cell_type": "markdown",
   "metadata": {},
   "source": [
    "#### Make 'target' factors."
   ]
  },
  {
   "cell_type": "code",
   "execution_count": 8,
   "metadata": {},
   "outputs": [],
   "source": [
    "train[y] = train[y].asfactor()"
   ]
  },
  {
   "cell_type": "markdown",
   "metadata": {},
   "source": [
    "## Train the model\n",
    "H2OAutoML is very simple. We decide to build a maximum of 50 models or stop after 5 hours (18000 seconds). Then we train the model with assigned X, y, and our training data."
   ]
  },
  {
   "cell_type": "code",
   "execution_count": 9,
   "metadata": {},
   "outputs": [
    {
     "name": "stdout",
     "output_type": "stream",
     "text": [
      "AutoML progress: |████████████████████████████████████████████████████████| 100%\n"
     ]
    }
   ],
   "source": [
    "model = H2OAutoML(max_models=50,\n",
    "                  max_runtime_secs = 18000,\n",
    "                seed=12345)\n",
    "model.train(x=X, y=y, training_frame=train)"
   ]
  },
  {
   "cell_type": "markdown",
   "metadata": {},
   "source": [
    "We list all the models that we built."
   ]
  },
  {
   "cell_type": "code",
   "execution_count": 10,
   "metadata": {},
   "outputs": [
    {
     "data": {
      "text/html": [
       "<table>\n",
       "<thead>\n",
       "<tr><th>model_id                                           </th><th style=\"text-align: right;\">     auc</th><th style=\"text-align: right;\">  logloss</th><th style=\"text-align: right;\">  mean_per_class_error</th><th style=\"text-align: right;\">    rmse</th><th style=\"text-align: right;\">      mse</th></tr>\n",
       "</thead>\n",
       "<tbody>\n",
       "<tr><td>StackedEnsemble_AllModels_AutoML_20190628_162741   </td><td style=\"text-align: right;\">0.885675</td><td style=\"text-align: right;\"> 0.21422 </td><td style=\"text-align: right;\">              0.242116</td><td style=\"text-align: right;\">0.246741</td><td style=\"text-align: right;\">0.0608813</td></tr>\n",
       "<tr><td>StackedEnsemble_BestOfFamily_AutoML_20190628_162741</td><td style=\"text-align: right;\">0.88356 </td><td style=\"text-align: right;\"> 0.215487</td><td style=\"text-align: right;\">              0.24748 </td><td style=\"text-align: right;\">0.247551</td><td style=\"text-align: right;\">0.0612816</td></tr>\n",
       "<tr><td>XGBoost_1_AutoML_20190628_162741                   </td><td style=\"text-align: right;\">0.8821  </td><td style=\"text-align: right;\"> 0.225393</td><td style=\"text-align: right;\">              0.250629</td><td style=\"text-align: right;\">0.255693</td><td style=\"text-align: right;\">0.0653787</td></tr>\n",
       "<tr><td>XGBoost_2_AutoML_20190628_162741                   </td><td style=\"text-align: right;\">0.882043</td><td style=\"text-align: right;\"> 0.227577</td><td style=\"text-align: right;\">              0.252034</td><td style=\"text-align: right;\">0.257723</td><td style=\"text-align: right;\">0.0664212</td></tr>\n",
       "<tr><td>XGBoost_3_AutoML_20190628_162741                   </td><td style=\"text-align: right;\">0.863853</td><td style=\"text-align: right;\"> 0.246898</td><td style=\"text-align: right;\">              0.266002</td><td style=\"text-align: right;\">0.265731</td><td style=\"text-align: right;\">0.0706128</td></tr>\n",
       "<tr><td>GLM_grid_1_AutoML_20190628_162741_model_1          </td><td style=\"text-align: right;\">0.859696</td><td style=\"text-align: right;\"> 0.316467</td><td style=\"text-align: right;\">              0.26647 </td><td style=\"text-align: right;\">0.297613</td><td style=\"text-align: right;\">0.0885737</td></tr>\n",
       "<tr><td>GBM_1_AutoML_20190628_162741                       </td><td style=\"text-align: right;\">0.844846</td><td style=\"text-align: right;\"> 0.25356 </td><td style=\"text-align: right;\">              0.289414</td><td style=\"text-align: right;\">0.269024</td><td style=\"text-align: right;\">0.0723738</td></tr>\n",
       "<tr><td>DRF_1_AutoML_20190628_162741                       </td><td style=\"text-align: right;\">0.806128</td><td style=\"text-align: right;\"> 0.278247</td><td style=\"text-align: right;\">              0.309462</td><td style=\"text-align: right;\">0.282238</td><td style=\"text-align: right;\">0.0796581</td></tr>\n",
       "<tr><td>GBM_2_AutoML_20190628_162741                       </td><td style=\"text-align: right;\">0.741154</td><td style=\"text-align: right;\"> 0.305155</td><td style=\"text-align: right;\">              0.343406</td><td style=\"text-align: right;\">0.292812</td><td style=\"text-align: right;\">0.0857386</td></tr>\n",
       "</tbody>\n",
       "</table>"
      ]
     },
     "metadata": {},
     "output_type": "display_data"
    },
    {
     "data": {
      "text/plain": []
     },
     "execution_count": 10,
     "metadata": {},
     "output_type": "execute_result"
    }
   ],
   "source": [
    "lb = model.leaderboard\n",
    "lb.head(rows=lb.nrows)"
   ]
  },
  {
   "cell_type": "markdown",
   "metadata": {},
   "source": [
    "model.leader is the best model in terms of auc in all models that we built. model.leader.predict will return the prediction of 'target' on our testing data, and we store the result into a new dataframe 'result'."
   ]
  },
  {
   "cell_type": "code",
   "execution_count": 11,
   "metadata": {},
   "outputs": [
    {
     "name": "stdout",
     "output_type": "stream",
     "text": [
      "Model Details\n",
      "=============\n",
      "H2OStackedEnsembleEstimator :  Stacked Ensemble\n",
      "Model Key:  StackedEnsemble_AllModels_AutoML_20190628_162741\n",
      "No model summary for this model\n",
      "\n",
      "\n",
      "ModelMetricsBinomialGLM: stackedensemble\n",
      "** Reported on train data. **\n",
      "\n",
      "MSE: 0.021752293535060672\n",
      "RMSE: 0.147486587644642\n",
      "LogLoss: 0.09665825493700282\n",
      "Null degrees of freedom: 199999\n",
      "Residual degrees of freedom: 199993\n",
      "Null deviance: 130463.31259094302\n",
      "Residual deviance: 38663.30197480113\n",
      "AIC: 38677.30197480113\n",
      "AUC: 0.9844170899641925\n",
      "pr_auc: 0.898728063094399\n",
      "Gini: 0.968834179928385\n",
      "Confusion Matrix (Act/Pred) for max f1 @ threshold = 0.4568611272403024: \n"
     ]
    },
    {
     "data": {
      "text/html": [
       "<div style=\"overflow:auto\"><table style=\"width:50%\"><tr><td><b></b></td>\n",
       "<td><b>0</b></td>\n",
       "<td><b>1</b></td>\n",
       "<td><b>Error</b></td>\n",
       "<td><b>Rate</b></td></tr>\n",
       "<tr><td>0</td>\n",
       "<td>178170.0</td>\n",
       "<td>1732.0</td>\n",
       "<td>0.0096</td>\n",
       "<td> (1732.0/179902.0)</td></tr>\n",
       "<tr><td>1</td>\n",
       "<td>3151.0</td>\n",
       "<td>16947.0</td>\n",
       "<td>0.1568</td>\n",
       "<td> (3151.0/20098.0)</td></tr>\n",
       "<tr><td>Total</td>\n",
       "<td>181321.0</td>\n",
       "<td>18679.0</td>\n",
       "<td>0.0244</td>\n",
       "<td> (4883.0/200000.0)</td></tr></table></div>"
      ],
      "text/plain": [
       "       0       1      Error    Rate\n",
       "-----  ------  -----  -------  -----------------\n",
       "0      178170  1732   0.0096   (1732.0/179902.0)\n",
       "1      3151    16947  0.1568   (3151.0/20098.0)\n",
       "Total  181321  18679  0.0244   (4883.0/200000.0)"
      ]
     },
     "metadata": {},
     "output_type": "display_data"
    },
    {
     "name": "stdout",
     "output_type": "stream",
     "text": [
      "Maximum Metrics: Maximum metrics at their respective thresholds\n",
      "\n"
     ]
    },
    {
     "data": {
      "text/html": [
       "<div style=\"overflow:auto\"><table style=\"width:50%\"><tr><td><b>metric</b></td>\n",
       "<td><b>threshold</b></td>\n",
       "<td><b>value</b></td>\n",
       "<td><b>idx</b></td></tr>\n",
       "<tr><td>max f1</td>\n",
       "<td>0.4568611</td>\n",
       "<td>0.8740748</td>\n",
       "<td>155.0</td></tr>\n",
       "<tr><td>max f2</td>\n",
       "<td>0.2844986</td>\n",
       "<td>0.8809430</td>\n",
       "<td>203.0</td></tr>\n",
       "<tr><td>max f0point5</td>\n",
       "<td>0.6134227</td>\n",
       "<td>0.9132291</td>\n",
       "<td>117.0</td></tr>\n",
       "<tr><td>max accuracy</td>\n",
       "<td>0.5088979</td>\n",
       "<td>0.97576</td>\n",
       "<td>141.0</td></tr>\n",
       "<tr><td>max precision</td>\n",
       "<td>0.9993322</td>\n",
       "<td>1.0</td>\n",
       "<td>0.0</td></tr>\n",
       "<tr><td>max recall</td>\n",
       "<td>0.0042653</td>\n",
       "<td>1.0</td>\n",
       "<td>396.0</td></tr>\n",
       "<tr><td>max specificity</td>\n",
       "<td>0.9993322</td>\n",
       "<td>1.0</td>\n",
       "<td>0.0</td></tr>\n",
       "<tr><td>max absolute_mcc</td>\n",
       "<td>0.4568611</td>\n",
       "<td>0.8612841</td>\n",
       "<td>155.0</td></tr>\n",
       "<tr><td>max min_per_class_accuracy</td>\n",
       "<td>0.1853497</td>\n",
       "<td>0.9414370</td>\n",
       "<td>241.0</td></tr>\n",
       "<tr><td>max mean_per_class_accuracy</td>\n",
       "<td>0.2108512</td>\n",
       "<td>0.9436731</td>\n",
       "<td>230.0</td></tr></table></div>"
      ],
      "text/plain": [
       "metric                       threshold    value     idx\n",
       "---------------------------  -----------  --------  -----\n",
       "max f1                       0.456861     0.874075  155\n",
       "max f2                       0.284499     0.880943  203\n",
       "max f0point5                 0.613423     0.913229  117\n",
       "max accuracy                 0.508898     0.97576   141\n",
       "max precision                0.999332     1         0\n",
       "max recall                   0.00426526   1         396\n",
       "max specificity              0.999332     1         0\n",
       "max absolute_mcc             0.456861     0.861284  155\n",
       "max min_per_class_accuracy   0.18535      0.941437  241\n",
       "max mean_per_class_accuracy  0.210851     0.943673  230"
      ]
     },
     "metadata": {},
     "output_type": "display_data"
    },
    {
     "name": "stdout",
     "output_type": "stream",
     "text": [
      "Gains/Lift Table: Avg response rate: 10.05 %, avg score: 12.88 %\n",
      "\n"
     ]
    },
    {
     "data": {
      "text/html": [
       "<div style=\"overflow:auto\"><table style=\"width:50%\"><tr><td><b></b></td>\n",
       "<td><b>group</b></td>\n",
       "<td><b>cumulative_data_fraction</b></td>\n",
       "<td><b>lower_threshold</b></td>\n",
       "<td><b>lift</b></td>\n",
       "<td><b>cumulative_lift</b></td>\n",
       "<td><b>response_rate</b></td>\n",
       "<td><b>score</b></td>\n",
       "<td><b>cumulative_response_rate</b></td>\n",
       "<td><b>cumulative_score</b></td>\n",
       "<td><b>capture_rate</b></td>\n",
       "<td><b>cumulative_capture_rate</b></td>\n",
       "<td><b>gain</b></td>\n",
       "<td><b>cumulative_gain</b></td></tr>\n",
       "<tr><td></td>\n",
       "<td>1</td>\n",
       "<td>0.01</td>\n",
       "<td>0.9959870</td>\n",
       "<td>9.9512389</td>\n",
       "<td>9.9512389</td>\n",
       "<td>1.0</td>\n",
       "<td>0.9981963</td>\n",
       "<td>1.0</td>\n",
       "<td>0.9981963</td>\n",
       "<td>0.0995124</td>\n",
       "<td>0.0995124</td>\n",
       "<td>895.1238929</td>\n",
       "<td>895.1238929</td></tr>\n",
       "<tr><td></td>\n",
       "<td>2</td>\n",
       "<td>0.02</td>\n",
       "<td>0.9881690</td>\n",
       "<td>9.9512389</td>\n",
       "<td>9.9512389</td>\n",
       "<td>1.0</td>\n",
       "<td>0.9925042</td>\n",
       "<td>1.0</td>\n",
       "<td>0.9953503</td>\n",
       "<td>0.0995124</td>\n",
       "<td>0.1990248</td>\n",
       "<td>895.1238929</td>\n",
       "<td>895.1238929</td></tr>\n",
       "<tr><td></td>\n",
       "<td>3</td>\n",
       "<td>0.03</td>\n",
       "<td>0.9740164</td>\n",
       "<td>9.9164096</td>\n",
       "<td>9.9396292</td>\n",
       "<td>0.9965</td>\n",
       "<td>0.9817759</td>\n",
       "<td>0.9988333</td>\n",
       "<td>0.9908255</td>\n",
       "<td>0.0991641</td>\n",
       "<td>0.2981889</td>\n",
       "<td>891.6409593</td>\n",
       "<td>893.9629150</td></tr>\n",
       "<tr><td></td>\n",
       "<td>4</td>\n",
       "<td>0.04</td>\n",
       "<td>0.9493058</td>\n",
       "<td>9.9164096</td>\n",
       "<td>9.9338243</td>\n",
       "<td>0.9965</td>\n",
       "<td>0.9627686</td>\n",
       "<td>0.99825</td>\n",
       "<td>0.9838112</td>\n",
       "<td>0.0991641</td>\n",
       "<td>0.3973530</td>\n",
       "<td>891.6409593</td>\n",
       "<td>893.3824261</td></tr>\n",
       "<tr><td></td>\n",
       "<td>5</td>\n",
       "<td>0.05</td>\n",
       "<td>0.9076345</td>\n",
       "<td>9.8069460</td>\n",
       "<td>9.9084486</td>\n",
       "<td>0.9855</td>\n",
       "<td>0.9300725</td>\n",
       "<td>0.9957</td>\n",
       "<td>0.9730635</td>\n",
       "<td>0.0980695</td>\n",
       "<td>0.4954224</td>\n",
       "<td>880.6945965</td>\n",
       "<td>890.8448602</td></tr>\n",
       "<tr><td></td>\n",
       "<td>6</td>\n",
       "<td>0.1</td>\n",
       "<td>0.3886872</td>\n",
       "<td>7.4365609</td>\n",
       "<td>8.6725047</td>\n",
       "<td>0.7473</td>\n",
       "<td>0.6723948</td>\n",
       "<td>0.8715</td>\n",
       "<td>0.8227291</td>\n",
       "<td>0.3718280</td>\n",
       "<td>0.8672505</td>\n",
       "<td>643.6560852</td>\n",
       "<td>767.2504727</td></tr>\n",
       "<tr><td></td>\n",
       "<td>7</td>\n",
       "<td>0.15</td>\n",
       "<td>0.1786848</td>\n",
       "<td>1.5225396</td>\n",
       "<td>6.2891830</td>\n",
       "<td>0.153</td>\n",
       "<td>0.2581299</td>\n",
       "<td>0.632</td>\n",
       "<td>0.6345294</td>\n",
       "<td>0.0761270</td>\n",
       "<td>0.9433775</td>\n",
       "<td>52.2539556</td>\n",
       "<td>528.9183003</td></tr>\n",
       "<tr><td></td>\n",
       "<td>8</td>\n",
       "<td>0.2</td>\n",
       "<td>0.1158177</td>\n",
       "<td>0.4229277</td>\n",
       "<td>4.8226192</td>\n",
       "<td>0.0425</td>\n",
       "<td>0.1428028</td>\n",
       "<td>0.484625</td>\n",
       "<td>0.5115977</td>\n",
       "<td>0.0211464</td>\n",
       "<td>0.9645238</td>\n",
       "<td>-57.7072346</td>\n",
       "<td>382.2619166</td></tr>\n",
       "<tr><td></td>\n",
       "<td>9</td>\n",
       "<td>0.3</td>\n",
       "<td>0.0674019</td>\n",
       "<td>0.1686735</td>\n",
       "<td>3.2713039</td>\n",
       "<td>0.01695</td>\n",
       "<td>0.0876252</td>\n",
       "<td>0.3287333</td>\n",
       "<td>0.3702736</td>\n",
       "<td>0.0168673</td>\n",
       "<td>0.9813912</td>\n",
       "<td>-83.1326500</td>\n",
       "<td>227.1303944</td></tr>\n",
       "<tr><td></td>\n",
       "<td>10</td>\n",
       "<td>0.4</td>\n",
       "<td>0.0459544</td>\n",
       "<td>0.0840880</td>\n",
       "<td>2.4745000</td>\n",
       "<td>0.00845</td>\n",
       "<td>0.0555617</td>\n",
       "<td>0.2486625</td>\n",
       "<td>0.2915956</td>\n",
       "<td>0.0084088</td>\n",
       "<td>0.9898000</td>\n",
       "<td>-91.5912031</td>\n",
       "<td>147.4499950</td></tr>\n",
       "<tr><td></td>\n",
       "<td>11</td>\n",
       "<td>0.5</td>\n",
       "<td>0.0333180</td>\n",
       "<td>0.0393074</td>\n",
       "<td>1.9874614</td>\n",
       "<td>0.00395</td>\n",
       "<td>0.0391704</td>\n",
       "<td>0.19972</td>\n",
       "<td>0.2411106</td>\n",
       "<td>0.0039307</td>\n",
       "<td>0.9937307</td>\n",
       "<td>-96.0692606</td>\n",
       "<td>98.7461439</td></tr>\n",
       "<tr><td></td>\n",
       "<td>12</td>\n",
       "<td>0.6</td>\n",
       "<td>0.0246091</td>\n",
       "<td>0.0253757</td>\n",
       "<td>1.6604471</td>\n",
       "<td>0.00255</td>\n",
       "<td>0.0287043</td>\n",
       "<td>0.1668583</td>\n",
       "<td>0.2057095</td>\n",
       "<td>0.0025376</td>\n",
       "<td>0.9962683</td>\n",
       "<td>-97.4624341</td>\n",
       "<td>66.0447142</td></tr>\n",
       "<tr><td></td>\n",
       "<td>13</td>\n",
       "<td>0.7</td>\n",
       "<td>0.0181796</td>\n",
       "<td>0.0189074</td>\n",
       "<td>1.4259415</td>\n",
       "<td>0.0019</td>\n",
       "<td>0.0212815</td>\n",
       "<td>0.1432929</td>\n",
       "<td>0.1793627</td>\n",
       "<td>0.0018907</td>\n",
       "<td>0.9981590</td>\n",
       "<td>-98.1092646</td>\n",
       "<td>42.5941458</td></tr>\n",
       "<tr><td></td>\n",
       "<td>14</td>\n",
       "<td>0.8</td>\n",
       "<td>0.0130674</td>\n",
       "<td>0.0089561</td>\n",
       "<td>1.2488183</td>\n",
       "<td>0.0009</td>\n",
       "<td>0.0155261</td>\n",
       "<td>0.1254937</td>\n",
       "<td>0.1588831</td>\n",
       "<td>0.0008956</td>\n",
       "<td>0.9990546</td>\n",
       "<td>-99.1043885</td>\n",
       "<td>24.8818290</td></tr>\n",
       "<tr><td></td>\n",
       "<td>15</td>\n",
       "<td>0.9</td>\n",
       "<td>0.0084949</td>\n",
       "<td>0.0049756</td>\n",
       "<td>1.1106135</td>\n",
       "<td>0.0005</td>\n",
       "<td>0.0107770</td>\n",
       "<td>0.1116056</td>\n",
       "<td>0.1424269</td>\n",
       "<td>0.0004976</td>\n",
       "<td>0.9995522</td>\n",
       "<td>-99.5024381</td>\n",
       "<td>11.0613549</td></tr>\n",
       "<tr><td></td>\n",
       "<td>16</td>\n",
       "<td>1.0</td>\n",
       "<td>0.0004916</td>\n",
       "<td>0.0044781</td>\n",
       "<td>1.0</td>\n",
       "<td>0.00045</td>\n",
       "<td>0.0058815</td>\n",
       "<td>0.10049</td>\n",
       "<td>0.1287723</td>\n",
       "<td>0.0004478</td>\n",
       "<td>1.0</td>\n",
       "<td>-99.5521942</td>\n",
       "<td>0.0</td></tr></table></div>"
      ],
      "text/plain": [
       "    group    cumulative_data_fraction    lower_threshold    lift        cumulative_lift    response_rate    score       cumulative_response_rate    cumulative_score    capture_rate    cumulative_capture_rate    gain      cumulative_gain\n",
       "--  -------  --------------------------  -----------------  ----------  -----------------  ---------------  ----------  --------------------------  ------------------  --------------  -------------------------  --------  -----------------\n",
       "    1        0.01                        0.995987           9.95124     9.95124            1                0.998196    1                           0.998196            0.0995124       0.0995124                  895.124   895.124\n",
       "    2        0.02                        0.988169           9.95124     9.95124            1                0.992504    1                           0.99535             0.0995124       0.199025                   895.124   895.124\n",
       "    3        0.03                        0.974016           9.91641     9.93963            0.9965           0.981776    0.998833                    0.990825            0.0991641       0.298189                   891.641   893.963\n",
       "    4        0.04                        0.949306           9.91641     9.93382            0.9965           0.962769    0.99825                     0.983811            0.0991641       0.397353                   891.641   893.382\n",
       "    5        0.05                        0.907634           9.80695     9.90845            0.9855           0.930072    0.9957                      0.973063            0.0980695       0.495422                   880.695   890.845\n",
       "    6        0.1                         0.388687           7.43656     8.6725             0.7473           0.672395    0.8715                      0.822729            0.371828        0.86725                    643.656   767.25\n",
       "    7        0.15                        0.178685           1.52254     6.28918            0.153            0.25813     0.632                       0.634529            0.076127        0.943377                   52.254    528.918\n",
       "    8        0.2                         0.115818           0.422928    4.82262            0.0425           0.142803    0.484625                    0.511598            0.0211464       0.964524                   -57.7072  382.262\n",
       "    9        0.3                         0.0674019          0.168673    3.2713             0.01695          0.0876252   0.328733                    0.370274            0.0168673       0.981391                   -83.1327  227.13\n",
       "    10       0.4                         0.0459544          0.084088    2.4745             0.00845          0.0555617   0.248663                    0.291596            0.0084088       0.9898                     -91.5912  147.45\n",
       "    11       0.5                         0.033318           0.0393074   1.98746            0.00395          0.0391704   0.19972                     0.241111            0.00393074      0.993731                   -96.0693  98.7461\n",
       "    12       0.6                         0.0246091          0.0253757   1.66045            0.00255          0.0287043   0.166858                    0.20571             0.00253757      0.996268                   -97.4624  66.0447\n",
       "    13       0.7                         0.0181796          0.0189074   1.42594            0.0019           0.0212815   0.143293                    0.179363            0.00189074      0.998159                   -98.1093  42.5941\n",
       "    14       0.8                         0.0130674          0.00895612  1.24882            0.0009           0.0155261   0.125494                    0.158883            0.000895612     0.999055                   -99.1044  24.8818\n",
       "    15       0.9                         0.00849494         0.00497562  1.11061            0.0005           0.010777    0.111606                    0.142427            0.000497562     0.999552                   -99.5024  11.0614\n",
       "    16       1                           0.000491556        0.00447806  1                  0.00045          0.00588148  0.10049                     0.128772            0.000447806     1                          -99.5522  0"
      ]
     },
     "metadata": {},
     "output_type": "display_data"
    },
    {
     "name": "stdout",
     "output_type": "stream",
     "text": [
      "\n",
      "\n",
      "ModelMetricsBinomialGLM: stackedensemble\n",
      "** Reported on cross-validation data. **\n",
      "\n",
      "MSE: 0.06088127363251494\n",
      "RMSE: 0.24674130913269254\n",
      "LogLoss: 0.21422026621993717\n",
      "Null degrees of freedom: 199999\n",
      "Residual degrees of freedom: 199993\n",
      "Null deviance: 130463.64873441865\n",
      "Residual deviance: 85688.10648797489\n",
      "AIC: 85702.10648797489\n",
      "AUC: 0.8856750745429397\n",
      "pr_auc: 0.5757144224554498\n",
      "Gini: 0.7713501490858794\n",
      "Confusion Matrix (Act/Pred) for max f1 @ threshold = 0.22445461673397699: \n"
     ]
    },
    {
     "data": {
      "text/html": [
       "<div style=\"overflow:auto\"><table style=\"width:50%\"><tr><td><b></b></td>\n",
       "<td><b>0</b></td>\n",
       "<td><b>1</b></td>\n",
       "<td><b>Error</b></td>\n",
       "<td><b>Rate</b></td></tr>\n",
       "<tr><td>0</td>\n",
       "<td>169670.0</td>\n",
       "<td>10232.0</td>\n",
       "<td>0.0569</td>\n",
       "<td> (10232.0/179902.0)</td></tr>\n",
       "<tr><td>1</td>\n",
       "<td>8589.0</td>\n",
       "<td>11509.0</td>\n",
       "<td>0.4274</td>\n",
       "<td> (8589.0/20098.0)</td></tr>\n",
       "<tr><td>Total</td>\n",
       "<td>178259.0</td>\n",
       "<td>21741.0</td>\n",
       "<td>0.0941</td>\n",
       "<td> (18821.0/200000.0)</td></tr></table></div>"
      ],
      "text/plain": [
       "       0       1      Error    Rate\n",
       "-----  ------  -----  -------  ------------------\n",
       "0      169670  10232  0.0569   (10232.0/179902.0)\n",
       "1      8589    11509  0.4274   (8589.0/20098.0)\n",
       "Total  178259  21741  0.0941   (18821.0/200000.0)"
      ]
     },
     "metadata": {},
     "output_type": "display_data"
    },
    {
     "name": "stdout",
     "output_type": "stream",
     "text": [
      "Maximum Metrics: Maximum metrics at their respective thresholds\n",
      "\n"
     ]
    },
    {
     "data": {
      "text/html": [
       "<div style=\"overflow:auto\"><table style=\"width:50%\"><tr><td><b>metric</b></td>\n",
       "<td><b>threshold</b></td>\n",
       "<td><b>value</b></td>\n",
       "<td><b>idx</b></td></tr>\n",
       "<tr><td>max f1</td>\n",
       "<td>0.2244546</td>\n",
       "<td>0.5501566</td>\n",
       "<td>216.0</td></tr>\n",
       "<tr><td>max f2</td>\n",
       "<td>0.1100197</td>\n",
       "<td>0.6200839</td>\n",
       "<td>279.0</td></tr>\n",
       "<tr><td>max f0point5</td>\n",
       "<td>0.4873342</td>\n",
       "<td>0.6018503</td>\n",
       "<td>129.0</td></tr>\n",
       "<tr><td>max accuracy</td>\n",
       "<td>0.4873342</td>\n",
       "<td>0.92179</td>\n",
       "<td>129.0</td></tr>\n",
       "<tr><td>max precision</td>\n",
       "<td>0.9982226</td>\n",
       "<td>1.0</td>\n",
       "<td>0.0</td></tr>\n",
       "<tr><td>max recall</td>\n",
       "<td>0.0042180</td>\n",
       "<td>1.0</td>\n",
       "<td>398.0</td></tr>\n",
       "<tr><td>max specificity</td>\n",
       "<td>0.9982226</td>\n",
       "<td>1.0</td>\n",
       "<td>0.0</td></tr>\n",
       "<tr><td>max absolute_mcc</td>\n",
       "<td>0.2740027</td>\n",
       "<td>0.4999402</td>\n",
       "<td>197.0</td></tr>\n",
       "<tr><td>max min_per_class_accuracy</td>\n",
       "<td>0.0835569</td>\n",
       "<td>0.8032929</td>\n",
       "<td>298.0</td></tr>\n",
       "<tr><td>max mean_per_class_accuracy</td>\n",
       "<td>0.0892284</td>\n",
       "<td>0.8045709</td>\n",
       "<td>294.0</td></tr></table></div>"
      ],
      "text/plain": [
       "metric                       threshold    value     idx\n",
       "---------------------------  -----------  --------  -----\n",
       "max f1                       0.224455     0.550157  216\n",
       "max f2                       0.11002      0.620084  279\n",
       "max f0point5                 0.487334     0.60185   129\n",
       "max accuracy                 0.487334     0.92179   129\n",
       "max precision                0.998223     1         0\n",
       "max recall                   0.004218     1         398\n",
       "max specificity              0.998223     1         0\n",
       "max absolute_mcc             0.274003     0.49994   197\n",
       "max min_per_class_accuracy   0.0835569    0.803293  298\n",
       "max mean_per_class_accuracy  0.0892284    0.804571  294"
      ]
     },
     "metadata": {},
     "output_type": "display_data"
    },
    {
     "name": "stdout",
     "output_type": "stream",
     "text": [
      "Gains/Lift Table: Avg response rate: 10.05 %, avg score: 10.05 %\n",
      "\n"
     ]
    },
    {
     "data": {
      "text/html": [
       "<div style=\"overflow:auto\"><table style=\"width:50%\"><tr><td><b></b></td>\n",
       "<td><b>group</b></td>\n",
       "<td><b>cumulative_data_fraction</b></td>\n",
       "<td><b>lower_threshold</b></td>\n",
       "<td><b>lift</b></td>\n",
       "<td><b>cumulative_lift</b></td>\n",
       "<td><b>response_rate</b></td>\n",
       "<td><b>score</b></td>\n",
       "<td><b>cumulative_response_rate</b></td>\n",
       "<td><b>cumulative_score</b></td>\n",
       "<td><b>capture_rate</b></td>\n",
       "<td><b>cumulative_capture_rate</b></td>\n",
       "<td><b>gain</b></td>\n",
       "<td><b>cumulative_gain</b></td></tr>\n",
       "<tr><td></td>\n",
       "<td>1</td>\n",
       "<td>0.01</td>\n",
       "<td>0.9418959</td>\n",
       "<td>9.1451886</td>\n",
       "<td>9.1451886</td>\n",
       "<td>0.919</td>\n",
       "<td>0.9751056</td>\n",
       "<td>0.919</td>\n",
       "<td>0.9751056</td>\n",
       "<td>0.0914519</td>\n",
       "<td>0.0914519</td>\n",
       "<td>814.5188576</td>\n",
       "<td>814.5188576</td></tr>\n",
       "<tr><td></td>\n",
       "<td>2</td>\n",
       "<td>0.02</td>\n",
       "<td>0.8351910</td>\n",
       "<td>8.0704548</td>\n",
       "<td>8.6078217</td>\n",
       "<td>0.811</td>\n",
       "<td>0.8909154</td>\n",
       "<td>0.865</td>\n",
       "<td>0.9330105</td>\n",
       "<td>0.0807045</td>\n",
       "<td>0.1721564</td>\n",
       "<td>707.0454772</td>\n",
       "<td>760.7821674</td></tr>\n",
       "<tr><td></td>\n",
       "<td>3</td>\n",
       "<td>0.03</td>\n",
       "<td>0.7149600</td>\n",
       "<td>7.2096726</td>\n",
       "<td>8.1417720</td>\n",
       "<td>0.7245</td>\n",
       "<td>0.7755185</td>\n",
       "<td>0.8181667</td>\n",
       "<td>0.8805132</td>\n",
       "<td>0.0720967</td>\n",
       "<td>0.2442532</td>\n",
       "<td>620.9672604</td>\n",
       "<td>714.1771984</td></tr>\n",
       "<tr><td></td>\n",
       "<td>4</td>\n",
       "<td>0.04</td>\n",
       "<td>0.5948668</td>\n",
       "<td>6.1996219</td>\n",
       "<td>7.6562345</td>\n",
       "<td>0.623</td>\n",
       "<td>0.6533036</td>\n",
       "<td>0.769375</td>\n",
       "<td>0.8237108</td>\n",
       "<td>0.0619962</td>\n",
       "<td>0.3062494</td>\n",
       "<td>519.9621853</td>\n",
       "<td>665.6234451</td></tr>\n",
       "<tr><td></td>\n",
       "<td>5</td>\n",
       "<td>0.05</td>\n",
       "<td>0.4993392</td>\n",
       "<td>5.2343517</td>\n",
       "<td>7.1718579</td>\n",
       "<td>0.526</td>\n",
       "<td>0.5445727</td>\n",
       "<td>0.7207</td>\n",
       "<td>0.7678832</td>\n",
       "<td>0.0523435</td>\n",
       "<td>0.3585929</td>\n",
       "<td>423.4351677</td>\n",
       "<td>617.1857896</td></tr>\n",
       "<tr><td></td>\n",
       "<td>6</td>\n",
       "<td>0.1</td>\n",
       "<td>0.2448208</td>\n",
       "<td>3.7794805</td>\n",
       "<td>5.4756692</td>\n",
       "<td>0.3798</td>\n",
       "<td>0.3483853</td>\n",
       "<td>0.55025</td>\n",
       "<td>0.5581342</td>\n",
       "<td>0.1889740</td>\n",
       "<td>0.5475669</td>\n",
       "<td>277.9480545</td>\n",
       "<td>447.5669221</td></tr>\n",
       "<tr><td></td>\n",
       "<td>7</td>\n",
       "<td>0.15</td>\n",
       "<td>0.1537950</td>\n",
       "<td>2.3345607</td>\n",
       "<td>4.4286330</td>\n",
       "<td>0.2346</td>\n",
       "<td>0.1931268</td>\n",
       "<td>0.4450333</td>\n",
       "<td>0.4364651</td>\n",
       "<td>0.1167280</td>\n",
       "<td>0.6642950</td>\n",
       "<td>133.4560653</td>\n",
       "<td>342.8633031</td></tr>\n",
       "<tr><td></td>\n",
       "<td>8</td>\n",
       "<td>0.2</td>\n",
       "<td>0.1109986</td>\n",
       "<td>1.5603543</td>\n",
       "<td>3.7115633</td>\n",
       "<td>0.1568</td>\n",
       "<td>0.1300340</td>\n",
       "<td>0.372975</td>\n",
       "<td>0.3598573</td>\n",
       "<td>0.0780177</td>\n",
       "<td>0.7423127</td>\n",
       "<td>56.0354264</td>\n",
       "<td>271.1563340</td></tr>\n",
       "<tr><td></td>\n",
       "<td>9</td>\n",
       "<td>0.3</td>\n",
       "<td>0.0694882</td>\n",
       "<td>0.9637775</td>\n",
       "<td>2.7956347</td>\n",
       "<td>0.09685</td>\n",
       "<td>0.0872926</td>\n",
       "<td>0.2809333</td>\n",
       "<td>0.2690024</td>\n",
       "<td>0.0963777</td>\n",
       "<td>0.8386904</td>\n",
       "<td>-3.6222510</td>\n",
       "<td>179.5634723</td></tr>\n",
       "<tr><td></td>\n",
       "<td>10</td>\n",
       "<td>0.4</td>\n",
       "<td>0.0491459</td>\n",
       "<td>0.6020500</td>\n",
       "<td>2.2472385</td>\n",
       "<td>0.0605</td>\n",
       "<td>0.0582977</td>\n",
       "<td>0.225825</td>\n",
       "<td>0.2163262</td>\n",
       "<td>0.0602050</td>\n",
       "<td>0.8988954</td>\n",
       "<td>-39.7950045</td>\n",
       "<td>124.7238531</td></tr>\n",
       "<tr><td></td>\n",
       "<td>11</td>\n",
       "<td>0.5</td>\n",
       "<td>0.0367523</td>\n",
       "<td>0.3672007</td>\n",
       "<td>1.8712310</td>\n",
       "<td>0.0369</td>\n",
       "<td>0.0425294</td>\n",
       "<td>0.18804</td>\n",
       "<td>0.1815669</td>\n",
       "<td>0.0367201</td>\n",
       "<td>0.9356155</td>\n",
       "<td>-63.2799284</td>\n",
       "<td>87.1230968</td></tr>\n",
       "<tr><td></td>\n",
       "<td>12</td>\n",
       "<td>0.6</td>\n",
       "<td>0.0280909</td>\n",
       "<td>0.2532590</td>\n",
       "<td>1.6015690</td>\n",
       "<td>0.02545</td>\n",
       "<td>0.0322222</td>\n",
       "<td>0.1609417</td>\n",
       "<td>0.1566761</td>\n",
       "<td>0.0253259</td>\n",
       "<td>0.9609414</td>\n",
       "<td>-74.6740969</td>\n",
       "<td>60.1568979</td></tr>\n",
       "<tr><td></td>\n",
       "<td>13</td>\n",
       "<td>0.7</td>\n",
       "<td>0.0214668</td>\n",
       "<td>0.1711613</td>\n",
       "<td>1.3972250</td>\n",
       "<td>0.0172</td>\n",
       "<td>0.0246403</td>\n",
       "<td>0.1404071</td>\n",
       "<td>0.1378138</td>\n",
       "<td>0.0171161</td>\n",
       "<td>0.9780575</td>\n",
       "<td>-82.8838690</td>\n",
       "<td>39.7225026</td></tr>\n",
       "<tr><td></td>\n",
       "<td>14</td>\n",
       "<td>0.8</td>\n",
       "<td>0.0160606</td>\n",
       "<td>0.1204100</td>\n",
       "<td>1.2376231</td>\n",
       "<td>0.0121</td>\n",
       "<td>0.0186977</td>\n",
       "<td>0.1243688</td>\n",
       "<td>0.1229243</td>\n",
       "<td>0.0120410</td>\n",
       "<td>0.9900985</td>\n",
       "<td>-87.9590009</td>\n",
       "<td>23.7623147</td></tr>\n",
       "<tr><td></td>\n",
       "<td>15</td>\n",
       "<td>0.9</td>\n",
       "<td>0.0110392</td>\n",
       "<td>0.0671709</td>\n",
       "<td>1.1075729</td>\n",
       "<td>0.00675</td>\n",
       "<td>0.0135727</td>\n",
       "<td>0.1113</td>\n",
       "<td>0.1107741</td>\n",
       "<td>0.0067171</td>\n",
       "<td>0.9968156</td>\n",
       "<td>-93.2829137</td>\n",
       "<td>10.7572893</td></tr>\n",
       "<tr><td></td>\n",
       "<td>16</td>\n",
       "<td>1.0</td>\n",
       "<td>0.0009517</td>\n",
       "<td>0.0318440</td>\n",
       "<td>1.0</td>\n",
       "<td>0.0032</td>\n",
       "<td>0.0080043</td>\n",
       "<td>0.10049</td>\n",
       "<td>0.1004972</td>\n",
       "<td>0.0031844</td>\n",
       "<td>1.0</td>\n",
       "<td>-96.8156035</td>\n",
       "<td>0.0</td></tr></table></div>"
      ],
      "text/plain": [
       "    group    cumulative_data_fraction    lower_threshold    lift       cumulative_lift    response_rate    score       cumulative_response_rate    cumulative_score    capture_rate    cumulative_capture_rate    gain      cumulative_gain\n",
       "--  -------  --------------------------  -----------------  ---------  -----------------  ---------------  ----------  --------------------------  ------------------  --------------  -------------------------  --------  -----------------\n",
       "    1        0.01                        0.941896           9.14519    9.14519            0.919            0.975106    0.919                       0.975106            0.0914519       0.0914519                  814.519   814.519\n",
       "    2        0.02                        0.835191           8.07045    8.60782            0.811            0.890915    0.865                       0.933011            0.0807045       0.172156                   707.045   760.782\n",
       "    3        0.03                        0.71496            7.20967    8.14177            0.7245           0.775518    0.818167                    0.880513            0.0720967       0.244253                   620.967   714.177\n",
       "    4        0.04                        0.594867           6.19962    7.65623            0.623            0.653304    0.769375                    0.823711            0.0619962       0.306249                   519.962   665.623\n",
       "    5        0.05                        0.499339           5.23435    7.17186            0.526            0.544573    0.7207                      0.767883            0.0523435       0.358593                   423.435   617.186\n",
       "    6        0.1                         0.244821           3.77948    5.47567            0.3798           0.348385    0.55025                     0.558134            0.188974        0.547567                   277.948   447.567\n",
       "    7        0.15                        0.153795           2.33456    4.42863            0.2346           0.193127    0.445033                    0.436465            0.116728        0.664295                   133.456   342.863\n",
       "    8        0.2                         0.110999           1.56035    3.71156            0.1568           0.130034    0.372975                    0.359857            0.0780177       0.742313                   56.0354   271.156\n",
       "    9        0.3                         0.0694882          0.963777   2.79563            0.09685          0.0872926   0.280933                    0.269002            0.0963777       0.83869                    -3.62225  179.563\n",
       "    10       0.4                         0.0491459          0.60205    2.24724            0.0605           0.0582977   0.225825                    0.216326            0.060205        0.898895                   -39.795   124.724\n",
       "    11       0.5                         0.0367523          0.367201   1.87123            0.0369           0.0425294   0.18804                     0.181567            0.0367201       0.935615                   -63.2799  87.1231\n",
       "    12       0.6                         0.0280909          0.253259   1.60157            0.02545          0.0322222   0.160942                    0.156676            0.0253259       0.960941                   -74.6741  60.1569\n",
       "    13       0.7                         0.0214668          0.171161   1.39723            0.0172           0.0246403   0.140407                    0.137814            0.0171161       0.978058                   -82.8839  39.7225\n",
       "    14       0.8                         0.0160606          0.12041    1.23762            0.0121           0.0186977   0.124369                    0.122924            0.012041        0.990099                   -87.959   23.7623\n",
       "    15       0.9                         0.0110392          0.0671709  1.10757            0.00675          0.0135727   0.1113                      0.110774            0.00671709      0.996816                   -93.2829  10.7573\n",
       "    16       1                           0.000951654        0.031844   1                  0.0032           0.00800427  0.10049                     0.100497            0.0031844       1                          -96.8156  0"
      ]
     },
     "metadata": {},
     "output_type": "display_data"
    },
    {
     "name": "stdout",
     "output_type": "stream",
     "text": [
      "\n"
     ]
    },
    {
     "data": {
      "text/plain": []
     },
     "execution_count": 11,
     "metadata": {},
     "output_type": "execute_result"
    }
   ],
   "source": [
    "model.leader"
   ]
  },
  {
   "cell_type": "code",
   "execution_count": 12,
   "metadata": {},
   "outputs": [
    {
     "name": "stdout",
     "output_type": "stream",
     "text": [
      "stackedensemble prediction progress: |████████████████████████████████████| 100%\n"
     ]
    },
    {
     "data": {
      "text/html": [
       "<table>\n",
       "<thead>\n",
       "<tr><th style=\"text-align: right;\">  predict</th><th style=\"text-align: right;\">      p0</th><th style=\"text-align: right;\">        p1</th></tr>\n",
       "</thead>\n",
       "<tbody>\n",
       "<tr><td style=\"text-align: right;\">        0</td><td style=\"text-align: right;\">0.842633</td><td style=\"text-align: right;\">0.157367  </td></tr>\n",
       "<tr><td style=\"text-align: right;\">        1</td><td style=\"text-align: right;\">0.759715</td><td style=\"text-align: right;\">0.240285  </td></tr>\n",
       "<tr><td style=\"text-align: right;\">        0</td><td style=\"text-align: right;\">0.916508</td><td style=\"text-align: right;\">0.083492  </td></tr>\n",
       "<tr><td style=\"text-align: right;\">        0</td><td style=\"text-align: right;\">0.852454</td><td style=\"text-align: right;\">0.147546  </td></tr>\n",
       "<tr><td style=\"text-align: right;\">        0</td><td style=\"text-align: right;\">0.953305</td><td style=\"text-align: right;\">0.0466947 </td></tr>\n",
       "<tr><td style=\"text-align: right;\">        0</td><td style=\"text-align: right;\">0.994923</td><td style=\"text-align: right;\">0.00507677</td></tr>\n",
       "<tr><td style=\"text-align: right;\">        0</td><td style=\"text-align: right;\">0.988653</td><td style=\"text-align: right;\">0.0113474 </td></tr>\n",
       "<tr><td style=\"text-align: right;\">        0</td><td style=\"text-align: right;\">0.875442</td><td style=\"text-align: right;\">0.124558  </td></tr>\n",
       "<tr><td style=\"text-align: right;\">        0</td><td style=\"text-align: right;\">0.995255</td><td style=\"text-align: right;\">0.00474487</td></tr>\n",
       "<tr><td style=\"text-align: right;\">        0</td><td style=\"text-align: right;\">0.990004</td><td style=\"text-align: right;\">0.00999596</td></tr>\n",
       "</tbody>\n",
       "</table>"
      ]
     },
     "metadata": {},
     "output_type": "display_data"
    },
    {
     "data": {
      "text/plain": []
     },
     "execution_count": 12,
     "metadata": {},
     "output_type": "execute_result"
    }
   ],
   "source": [
    "result = model.leader.predict(test)\n",
    "result"
   ]
  },
  {
   "cell_type": "markdown",
   "metadata": {},
   "source": [
    "Now, we combine our test data with the first column in result, which is the prediction itself."
   ]
  },
  {
   "cell_type": "code",
   "execution_count": 13,
   "metadata": {},
   "outputs": [],
   "source": [
    "sub = test.cbind(result[0])"
   ]
  },
  {
   "cell_type": "markdown",
   "metadata": {},
   "source": [
    "Then we select 'ID_code' and 'predict' from sub because those two columns are the only ones that we need in our submission file. We rename the 'predict' column to 'target' as required."
   ]
  },
  {
   "cell_type": "code",
   "execution_count": 14,
   "metadata": {},
   "outputs": [],
   "source": [
    "sub = sub[['ID_code','predict']]\n",
    "sub = sub.rename(columns={'predict':'target'})"
   ]
  },
  {
   "cell_type": "markdown",
   "metadata": {},
   "source": [
    "We convert our h2o dataframe sub to a pandas dataframe, and write it to csv."
   ]
  },
  {
   "cell_type": "code",
   "execution_count": 15,
   "metadata": {},
   "outputs": [],
   "source": [
    "sub = sub.as_data_frame()\n",
    "sub.to_csv('submission.csv',index=False)"
   ]
  },
  {
   "cell_type": "markdown",
   "metadata": {},
   "source": [
    "## Shut down the h2o cluster"
   ]
  },
  {
   "cell_type": "code",
   "execution_count": 16,
   "metadata": {},
   "outputs": [
    {
     "ename": "StdinNotImplementedError",
     "evalue": "raw_input was called, but this frontend does not support input requests.",
     "output_type": "error",
     "traceback": [
      "\u001b[0;31m---------------------------------------------------------------------------\u001b[0m",
      "\u001b[0;31mStdinNotImplementedError\u001b[0m                  Traceback (most recent call last)",
      "\u001b[0;32m<ipython-input-16-1eb67b2e6709>\u001b[0m in \u001b[0;36m<module>\u001b[0;34m\u001b[0m\n\u001b[0;32m----> 1\u001b[0;31m \u001b[0mh2o\u001b[0m\u001b[0;34m.\u001b[0m\u001b[0mcluster\u001b[0m\u001b[0;34m(\u001b[0m\u001b[0;34m)\u001b[0m\u001b[0;34m.\u001b[0m\u001b[0mshutdown\u001b[0m\u001b[0;34m(\u001b[0m\u001b[0mprompt\u001b[0m\u001b[0;34m=\u001b[0m\u001b[0;32mTrue\u001b[0m\u001b[0;34m)\u001b[0m\u001b[0;34m\u001b[0m\u001b[0m\n\u001b[0m",
      "\u001b[0;32m/opt/conda/lib/python3.6/site-packages/h2o/backend/cluster.py\u001b[0m in \u001b[0;36mshutdown\u001b[0;34m(self, prompt)\u001b[0m\n\u001b[1;32m    187\u001b[0m             \u001b[0mquestion\u001b[0m \u001b[0;34m=\u001b[0m \u001b[0;34m\"Are you sure you want to shutdown the H2O instance running at %s (Y/N)? \"\u001b[0m\u001b[0;31m \u001b[0m\u001b[0;31m\\\u001b[0m\u001b[0;34m\u001b[0m\u001b[0m\n\u001b[1;32m    188\u001b[0m                        \u001b[0;34m%\u001b[0m \u001b[0mh2o\u001b[0m\u001b[0;34m.\u001b[0m\u001b[0mconnection\u001b[0m\u001b[0;34m(\u001b[0m\u001b[0;34m)\u001b[0m\u001b[0;34m.\u001b[0m\u001b[0mbase_url\u001b[0m\u001b[0;34m\u001b[0m\u001b[0m\n\u001b[0;32m--> 189\u001b[0;31m             \u001b[0mresponse\u001b[0m \u001b[0;34m=\u001b[0m \u001b[0minput\u001b[0m\u001b[0;34m(\u001b[0m\u001b[0mquestion\u001b[0m\u001b[0;34m)\u001b[0m  \u001b[0;31m# works in Py2 & Py3 because redefined in h2o.utils.compatibility module\u001b[0m\u001b[0;34m\u001b[0m\u001b[0m\n\u001b[0m\u001b[1;32m    190\u001b[0m         \u001b[0;32melse\u001b[0m\u001b[0;34m:\u001b[0m\u001b[0;34m\u001b[0m\u001b[0m\n\u001b[1;32m    191\u001b[0m             \u001b[0mresponse\u001b[0m \u001b[0;34m=\u001b[0m \u001b[0;34m\"Y\"\u001b[0m\u001b[0;34m\u001b[0m\u001b[0m\n",
      "\u001b[0;32m/opt/conda/lib/python3.6/site-packages/ipykernel/kernelbase.py\u001b[0m in \u001b[0;36mraw_input\u001b[0;34m(self, prompt)\u001b[0m\n\u001b[1;32m    853\u001b[0m         \u001b[0;32mif\u001b[0m \u001b[0;32mnot\u001b[0m \u001b[0mself\u001b[0m\u001b[0;34m.\u001b[0m\u001b[0m_allow_stdin\u001b[0m\u001b[0;34m:\u001b[0m\u001b[0;34m\u001b[0m\u001b[0m\n\u001b[1;32m    854\u001b[0m             raise StdinNotImplementedError(\n\u001b[0;32m--> 855\u001b[0;31m                 \u001b[0;34m\"raw_input was called, but this frontend does not support input requests.\"\u001b[0m\u001b[0;34m\u001b[0m\u001b[0m\n\u001b[0m\u001b[1;32m    856\u001b[0m             )\n\u001b[1;32m    857\u001b[0m         return self._input_request(str(prompt),\n",
      "\u001b[0;31mStdinNotImplementedError\u001b[0m: raw_input was called, but this frontend does not support input requests."
     ]
    }
   ],
   "source": [
    "h2o.cluster().shutdown(prompt=True)"
   ]
  }
 ],
 "metadata": {
  "kernelspec": {
   "display_name": "Python 3",
   "language": "python",
   "name": "python3"
  },
  "language_info": {
   "codemirror_mode": {
    "name": "ipython",
    "version": 3
   },
   "file_extension": ".py",
   "mimetype": "text/x-python",
   "name": "python",
   "nbconvert_exporter": "python",
   "pygments_lexer": "ipython3",
   "version": "3.6.6"
  }
 },
 "nbformat": 4,
 "nbformat_minor": 1
}
